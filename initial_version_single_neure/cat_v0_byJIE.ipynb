{
 "cells": [
  {
   "cell_type": "markdown",
   "metadata": {},
   "source": [
    " # 1、导入工具库 Import packages we need "
   ]
  },
  {
   "cell_type": "code",
   "execution_count": 1,
   "metadata": {},
   "outputs": [],
   "source": [
    "import numpy as np\n",
    "import matplotlib.pyplot as plt\n",
    "import h5py\n",
    "import skimage.transform as tf\n",
    "\n",
    "##使图像显示在页面里 make plot inline\n",
    "%matplotlib inline"
   ]
  },
  {
   "cell_type": "markdown",
   "metadata": {},
   "source": [
    "# 2、数据加载 Load data "
   ]
  },
  {
   "cell_type": "code",
   "execution_count": 2,
   "metadata": {},
   "outputs": [],
   "source": [
    "def load_dataset():\n",
    "    ## train data\n",
    "    train_dataset = h5py.File('datasets/train_catvnoncat.h5','r')\n",
    "    train_set_x_orig = np.array(train_dataset[\"train_set_x\"][:])\n",
    "    train_set_y_orig = np.array(train_dataset[\"train_set_y\"][:])\n",
    "\n",
    "    \n",
    "    ## val data\n",
    "    val_dataset = h5py.File('datasets/test_catvnoncat.h5','r')\n",
    "    val_set_x_orig = np.array(val_dataset[\"test_set_x\"][:])\n",
    "    val_set_y_orig = np.array(val_dataset[\"test_set_y\"][:])\n",
    "    \n",
    "    ## tag\n",
    "    classes = np.array(val_dataset[\"list_classes\"][:])\n",
    "    \n",
    "    ## reshape Y \n",
    "    train_set_y_orig = train_set_y_orig.reshape((1,train_set_y_orig.shape[0]))\n",
    "    val_set_y_orig = val_set_y_orig.reshape((1,val_set_y_orig.shape[0]))\n",
    "    \n",
    "    \n",
    "    return train_set_x_orig,train_set_y_orig,val_set_x_orig,val_set_y_orig,classes"
   ]
  },
  {
   "cell_type": "markdown",
   "metadata": {},
   "source": [
    "# 3、数据探测 Data detection"
   ]
  },
  {
   "cell_type": "code",
   "execution_count": 3,
   "metadata": {},
   "outputs": [
    {
     "name": "stdout",
     "output_type": "stream",
     "text": [
      "(1, 209) (1, 50)\n",
      "Traindata X:(209, 64, 64, 3)\n",
      "Traindata Y:(1, 209)\n",
      "Valdata X:(50, 64, 64, 3)\n",
      "Valdata Y:(1, 50)\n",
      "train ：209\n",
      "val : 50\n",
      "pic width : 64\n",
      "pic height : 64\n"
     ]
    },
    {
     "data": {
      "image/png": "[encoded data removed]",
      "text/plain": [
       "<Figure size 432x288 with 1 Axes>"
      ]
     },
     "metadata": {
      "needs_background": "light"
     },
     "output_type": "display_data"
    }
   ],
   "source": [
    "train_data_x,train_data_y,val_data_x,val_data_y,classes = load_dataset()\n",
    "print(train_data_y.shape,val_data_y.shape)\n",
    "plt.imshow(train_data_x[51])\n",
    "\n",
    "# 查看变量维度 view the dimension of data\n",
    "print(\"Traindata X:\"+str(train_data_x.shape))\n",
    "print(\"Traindata Y:\"+str(train_data_y.shape))\n",
    "print(\"Valdata X:\"+str(val_data_x.shape))\n",
    "print(\"Valdata Y:\"+str(val_data_y.shape))\n",
    "\n",
    "# 打印样本数量与图片像素格式（后续需使用）print some info. of our pic data\n",
    "train_num = train_data_x.shape[0]\n",
    "val_num = val_data_x.shape[0]\n",
    "pic_px_w = train_data_x.shape[1]\n",
    "pic_px_h = train_data_x.shape[2]\n",
    "print(\"train ：\"+str(train_num)+\"\\nval : \"+str(val_num)+\"\\npic width : \"+str(pic_px_w)+\"\\npic height : \"+str(pic_px_h))\n"
   ]
  },
  {
   "cell_type": "markdown",
   "metadata": {},
   "source": [
    "# 4、数据处理 Data preprocessing"
   ]
  },
  {
   "cell_type": "code",
   "execution_count": 4,
   "metadata": {},
   "outputs": [
    {
     "name": "stdout",
     "output_type": "stream",
     "text": [
      "(12288, 209) (12288, 50)\n"
     ]
    }
   ],
   "source": [
    "# 数据扁平化与转置 Data flattening and transposition\n",
    "train_data_x_flatten = train_data_x.reshape(train_data_x.shape[0],-1).T\n",
    "val_data_x_flatten = val_data_x.reshape(val_data_x.shape[0],-1).T\n",
    "\n",
    "# 标准化与归一化 Standardization and normalization\n",
    "train_x = train_data_x_flatten/255\n",
    "val_x = val_data_x_flatten/225\n",
    "print(train_x.shape,val_x.shape)"
   ]
  },
  {
   "cell_type": "markdown",
   "metadata": {},
   "source": [
    "# 5、构建工具函数 construct some tool functions"
   ]
  },
  {
   "cell_type": "markdown",
   "metadata": {},
   "source": [
    "## 5.1 激活函数（sigmoid）"
   ]
  },
  {
   "cell_type": "code",
   "execution_count": 5,
   "metadata": {},
   "outputs": [],
   "source": [
    "def sigmoid(z):\n",
    "    s =1/(1+np.exp(-z))\n",
    "    return s"
   ]
  },
  {
   "cell_type": "markdown",
   "metadata": {},
   "source": [
    "## 5.2 初始化函数 initialization funtion"
   ]
  },
  {
   "cell_type": "code",
   "execution_count": 6,
   "metadata": {},
   "outputs": [],
   "source": [
    "def initialize_with_zero(dim):\n",
    "    ##dim为w的个数，每张图片的每个输入都有一个对应的权重值\n",
    "    w = np.zeros((dim,1))\n",
    "    ##阈值b\n",
    "    b = 0\n",
    "    \n",
    "    return w,b"
   ]
  },
  {
   "cell_type": "markdown",
   "metadata": {},
   "source": [
    "## 5.3 propagate传播函数 forward propagation"
   ]
  },
  {
   "cell_type": "code",
   "execution_count": 7,
   "metadata": {},
   "outputs": [],
   "source": [
    "def propagate(w,b,X,Y):\n",
    "    \n",
    "    m = X.shape[1]\n",
    "    ##向前传播，计算A （预测结果），和cost（损失）\n",
    "    A = sigmoid(np.dot(w.T,X)+b)\n",
    "    cost = -np.sum(Y*np.log(A)+(1-Y)*np.log(1-A))/m\n",
    "    \n",
    "    ##反向传播，计算dZ，dw，db\n",
    "    dZ = A - Y\n",
    "    dw = np.dot(X,dZ.T)/m\n",
    "    db = np.sum(dZ) / m\n",
    "    \n",
    "    ##将dw和db保存到字典里面\n",
    "    grads = {\"dw\": dw,\n",
    "             \"db\": db}\n",
    "    \n",
    "    return grads,cost\n",
    "    "
   ]
  },
  {
   "cell_type": "markdown",
   "metadata": {},
   "source": [
    "## 5.4 optimize优化（梯度下降）Gradient descent"
   ]
  },
  {
   "cell_type": "code",
   "execution_count": 8,
   "metadata": {},
   "outputs": [],
   "source": [
    "def optimize(w,b,X,Y,num_iterations,learning_rate,print_cost = True):\n",
    "    \"\"\"    \n",
    "    参数:\n",
    "    w -- 权重数组，维度是 (12288, 1)\n",
    "    b -- 偏置bias\n",
    "    X -- 图片的特征数据，维度是 (12288, 209)\n",
    "    Y -- 图片对应的标签，0或1，0是无猫，1是有猫，维度是(1,209)\n",
    "    num_iterations -- 指定要优化多少次\n",
    "    learning_rate -- 学习步进，是我们用来控制优化步进的参数\n",
    "    print_cost -- 为True时，每优化100次就把成本cost打印出来,以便我们观察成本的变化\n",
    "    \n",
    "    返回值:\n",
    "    params -- 优化后的w和b\n",
    "    costs -- 每优化100次，将成本记录下来，成本越小，表示参数越优化\n",
    "    \"\"\"\n",
    "    ##初始化costs列表\n",
    "    costs = []\n",
    "    ##循环执行梯度下降\n",
    "    for i in range(num_iterations):\n",
    "        grads,cost = propagate(w,b,X,Y)\n",
    "        dw = grads[\"dw\"]\n",
    "        db = grads[\"db\"]\n",
    "        \n",
    "        # 进行梯度下降，更新参数，使其越来越优化，使成本越来越小\n",
    "        w = w-learning_rate*dw\n",
    "        b = b- learning_rate*db\n",
    "        ##记录成本\n",
    "        if i%100 == 0:\n",
    "            costs.append(cost)\n",
    "            if print_cost:\n",
    "                print (\"优化%i次后成本是: %f\" %(i, cost))\n",
    "    \n",
    "    ##字典存储更新后的w，b\n",
    "    params = {\"w\": w,\n",
    "              \"b\": b}\n",
    "    \n",
    "    return params,costs\n",
    "        \n",
    "        "
   ]
  },
  {
   "cell_type": "markdown",
   "metadata": {},
   "source": [
    "## 5.5 predict函数"
   ]
  },
  {
   "cell_type": "code",
   "execution_count": 9,
   "metadata": {},
   "outputs": [],
   "source": [
    "def predict(w,b,X):\n",
    "    '''    \n",
    "    参数:\n",
    "    w -- 权重数组，维度是 (12288, 1)\n",
    "    b -- 偏置bias\n",
    "    X -- 图片的特征数据，维度是 (12288, 图片张数)\n",
    "    \n",
    "    返回值:\n",
    "    Y_prediction -- 对每张图片的预测结果\n",
    "    '''    \n",
    "    m = X.shape[1]\n",
    "    Y_prediction = np.zeros((1,m))\n",
    "    ##A为预测结果\n",
    "    A = sigmoid(np.dot(w.T,X)+b)\n",
    "    # 上面得出的预测结果是小数的形式，为了方便后面显示，我们将其转换成0和1的形式（大于等于0.5就是1/有猫，小于0.5就是0/无猫）\n",
    "    for i in range(A.shape[1]):\n",
    "        if A[0,i] >= 0.5:\n",
    "            Y_prediction[0,i] = 1\n",
    "    \n",
    "    return Y_prediction\n",
    "    "
   ]
  },
  {
   "cell_type": "markdown",
   "metadata": {},
   "source": [
    "# 6、组合构建神经网络模型 Construct Complete Model"
   ]
  },
  {
   "cell_type": "code",
   "execution_count": 10,
   "metadata": {},
   "outputs": [],
   "source": [
    "def model(X_train,Y_train,X_val,Y_val,num_iterations,learning_rate,print_cost = True):\n",
    "    \"\"\"    \n",
    "    参数:\n",
    "    X_train -- 训练图片,维度是(12288, 209)\n",
    "    Y_train -- 训练图片对应的标签,维度是 (1, 209)\n",
    "    X_test -- 测试图片,维度是(12288, 50)\n",
    "    Y_test -- 测试图片对应的标签,维度是 (1, 50)\n",
    "    num_iterations -- 需要训练/优化多少次\n",
    "    learning_rate -- 学习步进，是我们用来控制优化步进的参数\n",
    "    print_cost -- 为True时，每优化100次就把成本cost打印出来,以便我们观察成本的变化\n",
    "    \n",
    "    返回值:\n",
    "    d -- 返回一些信息\n",
    "    \"\"\"\n",
    "    ##初始化训练参数\n",
    "    w,b = initialize_with_zero(X_train.shape[0])\n",
    "    ##训练/优化\n",
    "    parameters, costs = optimize(w,b,X_train,Y_train,num_iterations,learning_rate,print_cost = True)\n",
    "    ##取出训练后的参数\n",
    "    w = parameters[\"w\"]\n",
    "    b = parameters[\"b\"]\n",
    "                                \n",
    "    ##使用参数进行验证\n",
    "    Y_train_predict = predict(w,b,X_train)\n",
    "    Y_val_predict = predict(w,b,X_val)\n",
    "    ##打印准确率\n",
    "    print(\"对训练图片的预测准确率为: {}%\".format(100 - np.mean(np.abs(Y_train_predict - Y_train)) * 100))\n",
    "    print(\"对测试图片的预测准确率为: {}%\".format(100 - np.mean(np.abs(Y_val_predict - Y_val)) * 100))\n",
    "                                \n",
    "    ##选择需要打印的数据：\n",
    "    d = {\"costs\": costs,\n",
    "         \"Y_prediction_test\": Y_val_predict, \n",
    "         \"Y_prediction_train\" : Y_train_predict, \n",
    "         \"w\" : w, \n",
    "         \"b\" : b,\n",
    "         \"learning_rate\" : learning_rate,\n",
    "         \"num_iterations\": num_iterations}\n",
    "                                \n",
    "    return d"
   ]
  },
  {
   "cell_type": "code",
   "execution_count": 11,
   "metadata": {},
   "outputs": [
    {
     "name": "stdout",
     "output_type": "stream",
     "text": [
      "优化0次后成本是: 0.693147\n",
      "优化100次后成本是: 0.823921\n",
      "优化200次后成本是: 0.418945\n",
      "优化300次后成本是: 0.617350\n",
      "优化400次后成本是: 0.522116\n",
      "优化500次后成本是: 0.387709\n",
      "优化600次后成本是: 0.236254\n",
      "优化700次后成本是: 0.154222\n",
      "优化800次后成本是: 0.135328\n",
      "优化900次后成本是: 0.124971\n",
      "优化1000次后成本是: 0.116478\n",
      "优化1100次后成本是: 0.109193\n",
      "优化1200次后成本是: 0.102804\n",
      "优化1300次后成本是: 0.097130\n",
      "优化1400次后成本是: 0.092043\n",
      "优化1500次后成本是: 0.087453\n",
      "优化1600次后成本是: 0.083286\n",
      "优化1700次后成本是: 0.079487\n",
      "优化1800次后成本是: 0.076007\n",
      "优化1900次后成本是: 0.072809\n",
      "对训练图片的预测准确率为: 99.52153110047847%\n",
      "对测试图片的预测准确率为: 70.0%\n"
     ]
    }
   ],
   "source": [
    "# When learning rate = 0.01\n",
    "# train_data_x,train_data_y,val_data_x,val_data_y,classes = load_dataset()\n",
    "d = model(train_x, train_data_y, val_x, val_data_y, num_iterations = 2000, learning_rate = 0.01, print_cost = True)"
   ]
  },
  {
   "cell_type": "code",
   "execution_count": 12,
   "metadata": {},
   "outputs": [
    {
     "name": "stdout",
     "output_type": "stream",
     "text": [
      "优化0次后成本是: 0.693147\n",
      "优化100次后成本是: 0.591289\n",
      "优化200次后成本是: 0.555796\n",
      "优化300次后成本是: 0.528977\n",
      "优化400次后成本是: 0.506881\n",
      "优化500次后成本是: 0.487880\n",
      "优化600次后成本是: 0.471108\n",
      "优化700次后成本是: 0.456046\n",
      "优化800次后成本是: 0.442350\n",
      "优化900次后成本是: 0.429782\n",
      "优化1000次后成本是: 0.418164\n",
      "优化1100次后成本是: 0.407362\n",
      "优化1200次后成本是: 0.397269\n",
      "优化1300次后成本是: 0.387802\n",
      "优化1400次后成本是: 0.378888\n",
      "优化1500次后成本是: 0.370471\n",
      "优化1600次后成本是: 0.362500\n",
      "优化1700次后成本是: 0.354934\n",
      "优化1800次后成本是: 0.347737\n",
      "优化1900次后成本是: 0.340877\n",
      "对训练图片的预测准确率为: 91.38755980861244%\n",
      "对测试图片的预测准确率为: 68.0%\n"
     ]
    }
   ],
   "source": [
    "# When learning rate = 0.001\n",
    "# train_data_x,train_data_y,val_data_x,val_data_y,classes = load_dataset()\n",
    "d = model(train_x, train_data_y, val_x, val_data_y, num_iterations = 2000, learning_rate = 0.001, print_cost = True)"
   ]
  },
  {
   "cell_type": "code",
   "execution_count": 13,
   "metadata": {},
   "outputs": [
    {
     "name": "stdout",
     "output_type": "stream",
     "text": [
      "优化0次后成本是: 0.693147\n",
      "优化100次后成本是: 0.643677\n",
      "优化200次后成本是: 0.635737\n",
      "优化300次后成本是: 0.628572\n",
      "优化400次后成本是: 0.622040\n",
      "优化500次后成本是: 0.616029\n",
      "优化600次后成本是: 0.610455\n",
      "优化700次后成本是: 0.605248\n",
      "优化800次后成本是: 0.600354\n",
      "优化900次后成本是: 0.595729\n",
      "优化1000次后成本是: 0.591339\n",
      "优化1100次后成本是: 0.587153\n",
      "优化1200次后成本是: 0.583149\n",
      "优化1300次后成本是: 0.579307\n",
      "优化1400次后成本是: 0.575611\n",
      "优化1500次后成本是: 0.572046\n",
      "优化1600次后成本是: 0.568601\n",
      "优化1700次后成本是: 0.565266\n",
      "优化1800次后成本是: 0.562032\n",
      "优化1900次后成本是: 0.558891\n",
      "对训练图片的预测准确率为: 71.29186602870814%\n",
      "对测试图片的预测准确率为: 40.0%\n"
     ]
    }
   ],
   "source": [
    "# When learning rate = 0.001\n",
    "# train_data_x,train_data_y,val_data_x,val_data_y,classes = load_dataset()\n",
    "d = model(train_x, train_data_y, val_x, val_data_y, num_iterations = 2000, learning_rate = 0.0001, print_cost = True)"
   ]
  },
  {
   "cell_type": "code",
   "execution_count": null,
   "metadata": {},
   "outputs": [],
   "source": []
  }
 ],
 "metadata": {
  "kernelspec": {
   "display_name": "Python 3",
   "language": "python",
   "name": "python3"
  },
  "language_info": {
   "codemirror_mode": {
    "name": "ipython",
    "version": 3
   },
   "file_extension": ".py",
   "mimetype": "text/x-python",
   "name": "python",
   "nbconvert_exporter": "python",
   "pygments_lexer": "ipython3",
   "version": "3.8.3"
  }
 },
 "nbformat": 4,
 "nbformat_minor": 4
}
